{
 "cells": [
  {
   "cell_type": "code",
   "execution_count": 2,
   "metadata": {
    "ExecuteTime": {
     "end_time": "2019-07-22T22:37:01.870000+02:00",
     "start_time": "2019-07-22T20:31:13.714Z"
    }
   },
   "outputs": [
    {
     "name": "stderr",
     "output_type": "stream",
     "text": [
      "┌ Warning: ADAM(params) is deprecated; use ADAM(η::Float64) instead\n",
      "│   caller = top-level scope at In[2]:27\n",
      "└ @ Core In[2]:27\n"
     ]
    },
    {
     "name": "stdout",
     "output_type": "stream",
     "text": [
      "loss(X, Y) = 2.384259f0 (tracked)\n",
      "loss(X, Y) = 2.384259f0 (tracked)\n",
      "loss(X, Y) = 2.384259f0 (tracked)\n",
      "loss(X, Y) = 2.384259f0 (tracked)\n",
      "loss(X, Y) = 2.384259f0 (tracked)\n",
      "loss(X, Y) = 2.384259f0 (tracked)\n",
      "loss(X, Y) = 2.384259f0 (tracked)\n",
      "loss(X, Y) = 2.384259f0 (tracked)\n",
      "loss(X, Y) = 2.384259f0 (tracked)\n",
      "loss(X, Y) = 2.384259f0 (tracked)\n",
      "loss(X, Y) = 2.384259f0 (tracked)\n",
      "loss(X, Y) = 2.384259f0 (tracked)\n",
      "loss(X, Y) = 2.384259f0 (tracked)\n",
      "loss(X, Y) = 2.384259f0 (tracked)\n",
      "loss(X, Y) = 2.384259f0 (tracked)\n",
      "loss(X, Y) = 2.384259f0 (tracked)\n",
      "loss(X, Y) = 2.384259f0 (tracked)\n",
      "loss(X, Y) = 2.384259f0 (tracked)\n",
      "loss(X, Y) = 2.384259f0 (tracked)\n",
      "loss(X, Y) = 2.384259f0 (tracked)\n",
      "loss(X, Y) = 2.384259f0 (tracked)\n",
      "loss(X, Y) = 2.384259f0 (tracked)\n",
      "loss(X, Y) = 2.384259f0 (tracked)\n",
      "acc X,Y 0.0755\n",
      "acc tX, tY 0.0707\n"
     ]
    }
   ],
   "source": [
    "using Flux, Flux.Data.MNIST, Statistics\n",
    "using Flux: onehotbatch, onecold, crossentropy, throttle\n",
    "using Base.Iterators: repeated\n",
    "# using CuArrays\n",
    "\n",
    "# Classify MNIST digits with a simple multi-layer-perceptron\n",
    "imgs = MNIST.images()\n",
    "\n",
    "# Stack images into one large batch\n",
    "X = hcat(float.(reshape.(imgs, :))...) |> gpu\n",
    "\n",
    "labels = MNIST.labels()\n",
    "# One-hot-encode the labels\n",
    "Y = onehotbatch(labels, 0:9) |> gpu\n",
    "\n",
    "m = Chain(\n",
    "  Dense(28^2, 32, relu),\n",
    "  Dense(32, 10),\n",
    "  softmax) |> gpu\n",
    "\n",
    "loss(x, y) = crossentropy(m(x), y)\n",
    "\n",
    "accuracy(x, y) = mean(onecold(m(x)) .== onecold(y))\n",
    "\n",
    "dataset = repeated((X, Y), 200)\n",
    "evalcb = () -> @show(loss(X, Y))\n",
    "opt = ADAM(params(m))\n",
    "\n",
    "Flux.train!(loss, dataset, opt, cb = throttle(evalcb, 10))\n",
    "\n",
    "println(\"acc X,Y \", accuracy(X, Y))\n",
    "\n",
    "# Test set accuracy\n",
    "tX = hcat(float.(reshape.(MNIST.images(:test), :))...) |> gpu\n",
    "tY = onehotbatch(MNIST.labels(:test), 0:9) |> gpu\n",
    "\n",
    "println(\"acc tX, tY \", accuracy(tX, tY))"
   ]
  },
  {
   "cell_type": "code",
   "execution_count": null,
   "metadata": {},
   "outputs": [],
   "source": []
  },
  {
   "cell_type": "code",
   "execution_count": 3,
   "metadata": {
    "ExecuteTime": {
     "end_time": "2019-07-22T22:42:34.429000+02:00",
     "start_time": "2019-07-22T20:31:14.156Z"
    }
   },
   "outputs": [
    {
     "name": "stderr",
     "output_type": "stream",
     "text": [
      "┌ Warning: ADAM(params) is deprecated; use ADAM(η::Float64) instead\n",
      "│   caller = top-level scope at In[3]:27\n",
      "└ @ Core In[3]:27\n"
     ]
    },
    {
     "name": "stdout",
     "output_type": "stream",
     "text": [
      "loss(X, Y) = 2.358121f0 (tracked)\n",
      "loss(X, Y) = 2.358121f0 (tracked)\n",
      "loss(X, Y) = 2.358121f0 (tracked)\n",
      "loss(X, Y) = 2.358121f0 (tracked)\n",
      "loss(X, Y) = 2.358121f0 (tracked)\n",
      "loss(X, Y) = 2.358121f0 (tracked)\n",
      "loss(X, Y) = 2.358121f0 (tracked)\n",
      "loss(X, Y) = 2.358121f0 (tracked)\n",
      "loss(X, Y) = 2.358121f0 (tracked)\n",
      "loss(X, Y) = 2.358121f0 (tracked)\n",
      "loss(X, Y) = 2.358121f0 (tracked)\n",
      "loss(X, Y) = 2.358121f0 (tracked)\n",
      "loss(X, Y) = 2.358121f0 (tracked)\n",
      "loss(X, Y) = 2.358121f0 (tracked)\n",
      "loss(X, Y) = 2.358121f0 (tracked)\n",
      "loss(X, Y) = 2.358121f0 (tracked)\n",
      "loss(X, Y) = 2.358121f0 (tracked)\n",
      "loss(X, Y) = 2.358121f0 (tracked)\n",
      "loss(X, Y) = 2.358121f0 (tracked)\n",
      "loss(X, Y) = 2.358121f0 (tracked)\n",
      "loss(X, Y) = 2.358121f0 (tracked)\n",
      "loss(X, Y) = 2.358121f0 (tracked)\n",
      "loss(X, Y) = 2.358121f0 (tracked)\n",
      "acc X,Y 0.07588333333333333\n",
      "acc tX, tY 0.0725\n"
     ]
    }
   ],
   "source": [
    "using Flux, Flux.Data.MNIST, Statistics\n",
    "using Flux: onehotbatch, onecold, crossentropy, throttle\n",
    "using Base.Iterators: repeated\n",
    "# using CuArrays\n",
    "\n",
    "# Classify MNIST digits with a simple multi-layer-perceptron\n",
    "imgs = MNIST.images()\n",
    "\n",
    "# Stack images into one large batch\n",
    "X = hcat(float.(reshape.(imgs, :))...) |> gpu\n",
    "\n",
    "labels = MNIST.labels()\n",
    "# One-hot-encode the labels\n",
    "Y = onehotbatch(labels, 0:9) |> gpu\n",
    "\n",
    "m = Chain(\n",
    "  Dense(28^2, 32, relu),\n",
    "  Dense(32, 10),\n",
    "  softmax) |> gpu\n",
    "\n",
    "loss(x, y) = crossentropy(m(x), y)\n",
    "\n",
    "accuracy(x, y) = mean(onecold(m(x)) .== onecold(y))\n",
    "\n",
    "dataset = repeated((X, Y), 200)\n",
    "evalcb = () -> @show(loss(X, Y))\n",
    "opt = ADAM(params(m))\n",
    "\n",
    "Flux.train!(loss, dataset, opt, cb = throttle(evalcb, 10))\n",
    "\n",
    "println(\"acc X,Y \", accuracy(X, Y))\n",
    "\n",
    "# Test set accuracy\n",
    "tX = hcat(float.(reshape.(MNIST.images(:test), :))...) |> gpu\n",
    "tY = onehotbatch(MNIST.labels(:test), 0:9) |> gpu\n",
    "\n",
    "println(\"acc tX, tY \", accuracy(tX, tY))"
   ]
  },
  {
   "cell_type": "code",
   "execution_count": null,
   "metadata": {},
   "outputs": [],
   "source": []
  }
 ],
 "metadata": {
  "kernelspec": {
   "display_name": "Julia 1.1.1",
   "language": "julia",
   "name": "julia-1.1"
  },
  "language_info": {
   "file_extension": ".jl",
   "mimetype": "application/julia",
   "name": "julia",
   "version": "1.1.1"
  }
 },
 "nbformat": 4,
 "nbformat_minor": 2
}
